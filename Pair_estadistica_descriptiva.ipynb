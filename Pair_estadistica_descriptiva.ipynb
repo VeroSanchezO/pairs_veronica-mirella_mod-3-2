{
 "cells": [
  {
   "cell_type": "code",
   "execution_count": 2,
   "metadata": {},
   "outputs": [],
   "source": [
    "# importamos las librerías que necesitamos\n",
    "\n",
    "# Tratamiento de datos\n",
    "# -----------------------------------------------------------------------\n",
    "import pandas as pd\n",
    "import numpy as np\n",
    "\n",
    "# Visualización\n",
    "# ------------------------------------------------------------------------------\n",
    "import matplotlib.pyplot as plt\n",
    "import seaborn as sns\n",
    "\n",
    "# Evaluar linealidad de las relaciones entre las variables\n",
    "# ------------------------------------------------------------------------------\n",
    "from scipy.stats import shapiro, kstest\n",
    "\n",
    "# Configuración\n",
    "# -----------------------------------------------------------------------\n",
    "pd.set_option('display.max_columns', None) # para poder visualizar todas las columnas de los DataFrames\n",
    "\n",
    "# Gestión de los warnings\n",
    "# -----------------------------------------------------------------------\n",
    "import warnings\n",
    "warnings.filterwarnings(\"ignore\")"
   ]
  },
  {
   "cell_type": "code",
   "execution_count": 3,
   "metadata": {},
   "outputs": [
    {
     "data": {
      "text/html": [
       "<div>\n",
       "<style scoped>\n",
       "    .dataframe tbody tr th:only-of-type {\n",
       "        vertical-align: middle;\n",
       "    }\n",
       "\n",
       "    .dataframe tbody tr th {\n",
       "        vertical-align: top;\n",
       "    }\n",
       "\n",
       "    .dataframe thead th {\n",
       "        text-align: right;\n",
       "    }\n",
       "</style>\n",
       "<table border=\"1\" class=\"dataframe\">\n",
       "  <thead>\n",
       "    <tr style=\"text-align: right;\">\n",
       "      <th></th>\n",
       "      <th>country</th>\n",
       "      <th>density</th>\n",
       "      <th>abbreviation</th>\n",
       "      <th>agricultural_land</th>\n",
       "      <th>land_area</th>\n",
       "      <th>armed_forces_size</th>\n",
       "      <th>birth_rate</th>\n",
       "      <th>calling_code</th>\n",
       "      <th>capital/major_city</th>\n",
       "      <th>co2-emissions</th>\n",
       "      <th>cpi</th>\n",
       "      <th>cpi_change</th>\n",
       "      <th>currency-code</th>\n",
       "      <th>fertility_rate</th>\n",
       "      <th>forested_area</th>\n",
       "      <th>gasoline_price</th>\n",
       "      <th>gdp</th>\n",
       "      <th>gross_primary_education_enrollment</th>\n",
       "      <th>gross_tertiary_education_enrollment</th>\n",
       "      <th>infant_mortality</th>\n",
       "      <th>largest_city</th>\n",
       "      <th>life_expectancy</th>\n",
       "      <th>maternal_mortality_ratio</th>\n",
       "      <th>minimum_wage</th>\n",
       "      <th>official_language</th>\n",
       "      <th>out_of_pocket_health_expenditure</th>\n",
       "      <th>physicians_per_thousand</th>\n",
       "      <th>population</th>\n",
       "      <th>population_labor_force_participation</th>\n",
       "      <th>tax_revenue</th>\n",
       "      <th>total_tax_rate</th>\n",
       "      <th>unemployment_rate</th>\n",
       "      <th>urban_population</th>\n",
       "      <th>latitude</th>\n",
       "      <th>longitude</th>\n",
       "      <th>continent</th>\n",
       "    </tr>\n",
       "  </thead>\n",
       "  <tbody>\n",
       "    <tr>\n",
       "      <th>0</th>\n",
       "      <td>Afghanistan</td>\n",
       "      <td>60.0</td>\n",
       "      <td>AF</td>\n",
       "      <td>58.1</td>\n",
       "      <td>652.230</td>\n",
       "      <td>323.0</td>\n",
       "      <td>32.49</td>\n",
       "      <td>93.0</td>\n",
       "      <td>Kabul</td>\n",
       "      <td>8.672</td>\n",
       "      <td>149.90</td>\n",
       "      <td>2.3</td>\n",
       "      <td>AFN</td>\n",
       "      <td>4.47</td>\n",
       "      <td>2.1</td>\n",
       "      <td>0.70</td>\n",
       "      <td>1.910135e+10</td>\n",
       "      <td>104.0</td>\n",
       "      <td>9.7</td>\n",
       "      <td>47.9</td>\n",
       "      <td>Kabul</td>\n",
       "      <td>64.5</td>\n",
       "      <td>638.0</td>\n",
       "      <td>0.43</td>\n",
       "      <td>Pashto</td>\n",
       "      <td>78.4</td>\n",
       "      <td>0.28</td>\n",
       "      <td>NaN</td>\n",
       "      <td>48.9</td>\n",
       "      <td>9.3</td>\n",
       "      <td>71.4</td>\n",
       "      <td>11.12</td>\n",
       "      <td>NaN</td>\n",
       "      <td>33.939110</td>\n",
       "      <td>67.709953</td>\n",
       "      <td>Asia</td>\n",
       "    </tr>\n",
       "    <tr>\n",
       "      <th>1</th>\n",
       "      <td>Albania</td>\n",
       "      <td>105.0</td>\n",
       "      <td>AL</td>\n",
       "      <td>43.1</td>\n",
       "      <td>28.748</td>\n",
       "      <td>9.0</td>\n",
       "      <td>11.78</td>\n",
       "      <td>355.0</td>\n",
       "      <td>Tirana</td>\n",
       "      <td>4.536</td>\n",
       "      <td>119.05</td>\n",
       "      <td>1.4</td>\n",
       "      <td>ALL</td>\n",
       "      <td>1.62</td>\n",
       "      <td>28.1</td>\n",
       "      <td>1.36</td>\n",
       "      <td>1.527808e+10</td>\n",
       "      <td>107.0</td>\n",
       "      <td>55.0</td>\n",
       "      <td>7.8</td>\n",
       "      <td>Tirana</td>\n",
       "      <td>78.5</td>\n",
       "      <td>15.0</td>\n",
       "      <td>1.12</td>\n",
       "      <td>Albanian</td>\n",
       "      <td>56.9</td>\n",
       "      <td>1.20</td>\n",
       "      <td>NaN</td>\n",
       "      <td>55.7</td>\n",
       "      <td>18.6</td>\n",
       "      <td>36.6</td>\n",
       "      <td>12.33</td>\n",
       "      <td>NaN</td>\n",
       "      <td>41.153332</td>\n",
       "      <td>20.168331</td>\n",
       "      <td>Europe</td>\n",
       "    </tr>\n",
       "    <tr>\n",
       "      <th>2</th>\n",
       "      <td>Algeria</td>\n",
       "      <td>18.0</td>\n",
       "      <td>DZ</td>\n",
       "      <td>17.4</td>\n",
       "      <td>NaN</td>\n",
       "      <td>317.0</td>\n",
       "      <td>24.28</td>\n",
       "      <td>213.0</td>\n",
       "      <td>Algiers</td>\n",
       "      <td>150.006</td>\n",
       "      <td>151.36</td>\n",
       "      <td>2.0</td>\n",
       "      <td>DZD</td>\n",
       "      <td>3.02</td>\n",
       "      <td>0.8</td>\n",
       "      <td>0.28</td>\n",
       "      <td>1.699882e+11</td>\n",
       "      <td>109.9</td>\n",
       "      <td>51.4</td>\n",
       "      <td>20.1</td>\n",
       "      <td>Algiers</td>\n",
       "      <td>76.7</td>\n",
       "      <td>112.0</td>\n",
       "      <td>0.95</td>\n",
       "      <td>Arabic</td>\n",
       "      <td>28.1</td>\n",
       "      <td>1.72</td>\n",
       "      <td>NaN</td>\n",
       "      <td>41.2</td>\n",
       "      <td>37.2</td>\n",
       "      <td>66.1</td>\n",
       "      <td>11.70</td>\n",
       "      <td>NaN</td>\n",
       "      <td>28.033886</td>\n",
       "      <td>1.659626</td>\n",
       "      <td>Africa</td>\n",
       "    </tr>\n",
       "    <tr>\n",
       "      <th>3</th>\n",
       "      <td>Andorra</td>\n",
       "      <td>164.0</td>\n",
       "      <td>AD</td>\n",
       "      <td>40.0</td>\n",
       "      <td>468.000</td>\n",
       "      <td>NaN</td>\n",
       "      <td>7.20</td>\n",
       "      <td>376.0</td>\n",
       "      <td>Andorra la Vella</td>\n",
       "      <td>469.000</td>\n",
       "      <td>NaN</td>\n",
       "      <td>NaN</td>\n",
       "      <td>EUR</td>\n",
       "      <td>1.27</td>\n",
       "      <td>34.0</td>\n",
       "      <td>1.51</td>\n",
       "      <td>3.154058e+09</td>\n",
       "      <td>106.4</td>\n",
       "      <td>NaN</td>\n",
       "      <td>2.7</td>\n",
       "      <td>Andorra la Vella</td>\n",
       "      <td>NaN</td>\n",
       "      <td>NaN</td>\n",
       "      <td>6.63</td>\n",
       "      <td>Catalan</td>\n",
       "      <td>36.4</td>\n",
       "      <td>3.33</td>\n",
       "      <td>77.142</td>\n",
       "      <td>NaN</td>\n",
       "      <td>NaN</td>\n",
       "      <td>NaN</td>\n",
       "      <td>NaN</td>\n",
       "      <td>67.873</td>\n",
       "      <td>42.506285</td>\n",
       "      <td>1.521801</td>\n",
       "      <td>Europe</td>\n",
       "    </tr>\n",
       "    <tr>\n",
       "      <th>4</th>\n",
       "      <td>Angola</td>\n",
       "      <td>26.0</td>\n",
       "      <td>AO</td>\n",
       "      <td>47.5</td>\n",
       "      <td>NaN</td>\n",
       "      <td>117.0</td>\n",
       "      <td>40.73</td>\n",
       "      <td>244.0</td>\n",
       "      <td>Luanda</td>\n",
       "      <td>34.693</td>\n",
       "      <td>261.73</td>\n",
       "      <td>17.1</td>\n",
       "      <td>AOA</td>\n",
       "      <td>5.52</td>\n",
       "      <td>46.3</td>\n",
       "      <td>0.97</td>\n",
       "      <td>9.463542e+10</td>\n",
       "      <td>113.5</td>\n",
       "      <td>9.3</td>\n",
       "      <td>51.6</td>\n",
       "      <td>Luanda</td>\n",
       "      <td>60.8</td>\n",
       "      <td>241.0</td>\n",
       "      <td>0.71</td>\n",
       "      <td>Portuguese</td>\n",
       "      <td>33.4</td>\n",
       "      <td>0.21</td>\n",
       "      <td>NaN</td>\n",
       "      <td>77.5</td>\n",
       "      <td>9.2</td>\n",
       "      <td>49.1</td>\n",
       "      <td>6.89</td>\n",
       "      <td>NaN</td>\n",
       "      <td>-11.202692</td>\n",
       "      <td>17.873887</td>\n",
       "      <td>Africa</td>\n",
       "    </tr>\n",
       "  </tbody>\n",
       "</table>\n",
       "</div>"
      ],
      "text/plain": [
       "       country  density abbreviation  agricultural_land  land_area  \\\n",
       "0  Afghanistan     60.0           AF               58.1    652.230   \n",
       "1      Albania    105.0           AL               43.1     28.748   \n",
       "2      Algeria     18.0           DZ               17.4        NaN   \n",
       "3      Andorra    164.0           AD               40.0    468.000   \n",
       "4       Angola     26.0           AO               47.5        NaN   \n",
       "\n",
       "   armed_forces_size  birth_rate  calling_code capital/major_city  \\\n",
       "0              323.0       32.49          93.0              Kabul   \n",
       "1                9.0       11.78         355.0             Tirana   \n",
       "2              317.0       24.28         213.0            Algiers   \n",
       "3                NaN        7.20         376.0   Andorra la Vella   \n",
       "4              117.0       40.73         244.0             Luanda   \n",
       "\n",
       "   co2-emissions     cpi  cpi_change currency-code  fertility_rate  \\\n",
       "0          8.672  149.90         2.3           AFN            4.47   \n",
       "1          4.536  119.05         1.4           ALL            1.62   \n",
       "2        150.006  151.36         2.0           DZD            3.02   \n",
       "3        469.000     NaN         NaN           EUR            1.27   \n",
       "4         34.693  261.73        17.1           AOA            5.52   \n",
       "\n",
       "   forested_area  gasoline_price           gdp  \\\n",
       "0            2.1            0.70  1.910135e+10   \n",
       "1           28.1            1.36  1.527808e+10   \n",
       "2            0.8            0.28  1.699882e+11   \n",
       "3           34.0            1.51  3.154058e+09   \n",
       "4           46.3            0.97  9.463542e+10   \n",
       "\n",
       "   gross_primary_education_enrollment  gross_tertiary_education_enrollment  \\\n",
       "0                               104.0                                  9.7   \n",
       "1                               107.0                                 55.0   \n",
       "2                               109.9                                 51.4   \n",
       "3                               106.4                                  NaN   \n",
       "4                               113.5                                  9.3   \n",
       "\n",
       "   infant_mortality      largest_city  life_expectancy  \\\n",
       "0              47.9             Kabul             64.5   \n",
       "1               7.8            Tirana             78.5   \n",
       "2              20.1           Algiers             76.7   \n",
       "3               2.7  Andorra la Vella              NaN   \n",
       "4              51.6            Luanda             60.8   \n",
       "\n",
       "   maternal_mortality_ratio  minimum_wage official_language  \\\n",
       "0                     638.0          0.43            Pashto   \n",
       "1                      15.0          1.12          Albanian   \n",
       "2                     112.0          0.95            Arabic   \n",
       "3                       NaN          6.63           Catalan   \n",
       "4                     241.0          0.71        Portuguese   \n",
       "\n",
       "   out_of_pocket_health_expenditure  physicians_per_thousand  population  \\\n",
       "0                              78.4                     0.28         NaN   \n",
       "1                              56.9                     1.20         NaN   \n",
       "2                              28.1                     1.72         NaN   \n",
       "3                              36.4                     3.33      77.142   \n",
       "4                              33.4                     0.21         NaN   \n",
       "\n",
       "   population_labor_force_participation  tax_revenue  total_tax_rate  \\\n",
       "0                                  48.9          9.3            71.4   \n",
       "1                                  55.7         18.6            36.6   \n",
       "2                                  41.2         37.2            66.1   \n",
       "3                                   NaN          NaN             NaN   \n",
       "4                                  77.5          9.2            49.1   \n",
       "\n",
       "   unemployment_rate  urban_population   latitude  longitude continent  \n",
       "0              11.12               NaN  33.939110  67.709953      Asia  \n",
       "1              12.33               NaN  41.153332  20.168331    Europe  \n",
       "2              11.70               NaN  28.033886   1.659626    Africa  \n",
       "3                NaN            67.873  42.506285   1.521801    Europe  \n",
       "4               6.89               NaN -11.202692  17.873887    Africa  "
      ]
     },
     "execution_count": 3,
     "metadata": {},
     "output_type": "execute_result"
    }
   ],
   "source": [
    "# lo primero que hacemos es cargar el dataframe que vamos a usar para esta lección\n",
    "df = pd.read_csv(\"world_data_full_apply_nulos.csv\", index_col = 0)\n",
    "df.head()"
   ]
  },
  {
   "cell_type": "markdown",
   "metadata": {},
   "source": [
    "Calcula las siguientes estadísticas descriptivas para las variables numéricas:\n",
    "\n",
    "Media\n",
    "\n",
    "Mediana\n",
    "\n",
    "Desviación estándar\n",
    "\n",
    "Mínimo\n",
    "\n",
    "Máximo"
   ]
  },
  {
   "cell_type": "code",
   "execution_count": 7,
   "metadata": {},
   "outputs": [],
   "source": [
    "variables_numericas = df[df.columns[df.any()]].select_dtypes(include=np.number).columns"
   ]
  },
  {
   "cell_type": "code",
   "execution_count": 8,
   "metadata": {},
   "outputs": [
    {
     "data": {
      "text/plain": [
       "Index(['density', 'agricultural_land', 'land_area', 'armed_forces_size',\n",
       "       'birth_rate', 'calling_code', 'co2-emissions', 'cpi', 'cpi_change',\n",
       "       'fertility_rate', 'forested_area', 'gasoline_price', 'gdp',\n",
       "       'gross_primary_education_enrollment',\n",
       "       'gross_tertiary_education_enrollment', 'infant_mortality',\n",
       "       'life_expectancy', 'maternal_mortality_ratio', 'minimum_wage',\n",
       "       'out_of_pocket_health_expenditure', 'physicians_per_thousand',\n",
       "       'population', 'population_labor_force_participation', 'tax_revenue',\n",
       "       'total_tax_rate', 'unemployment_rate', 'urban_population', 'latitude',\n",
       "       'longitude'],\n",
       "      dtype='object')"
      ]
     },
     "execution_count": 8,
     "metadata": {},
     "output_type": "execute_result"
    }
   ],
   "source": [
    "variables_numericas"
   ]
  },
  {
   "cell_type": "code",
   "execution_count": 9,
   "metadata": {},
   "outputs": [],
   "source": [
    "media = df[variables_numericas].mean()"
   ]
  },
  {
   "cell_type": "code",
   "execution_count": 10,
   "metadata": {},
   "outputs": [
    {
     "data": {
      "text/plain": [
       "density                                 1.345045e+02\n",
       "agricultural_land                       3.911755e+01\n",
       "land_area                               2.552127e+02\n",
       "armed_forces_size                       1.037831e+02\n",
       "birth_rate                              2.021497e+01\n",
       "calling_code                            3.605464e+02\n",
       "co2-emissions                           1.259155e+02\n",
       "cpi                                     1.441936e+02\n",
       "cpi_change                              6.722346e+00\n",
       "fertility_rate                          2.698138e+00\n",
       "forested_area                           3.201543e+01\n",
       "gasoline_price                          1.002457e+00\n",
       "gdp                                     4.772959e+11\n",
       "gross_primary_education_enrollment      1.024702e+02\n",
       "gross_tertiary_education_enrollment     3.796339e+01\n",
       "infant_mortality                        2.133280e+01\n",
       "life_expectancy                         7.227968e+01\n",
       "maternal_mortality_ratio                1.603923e+02\n",
       "minimum_wage                            2.194133e+00\n",
       "out_of_pocket_health_expenditure        3.263723e+01\n",
       "physicians_per_thousand                 1.839840e+00\n",
       "population                              3.335427e+02\n",
       "population_labor_force_participation    6.273807e+01\n",
       "tax_revenue                             1.657396e+01\n",
       "total_tax_rate                          4.082240e+01\n",
       "unemployment_rate                       6.886364e+00\n",
       "urban_population                        2.794610e+02\n",
       "latitude                                1.909235e+01\n",
       "longitude                               2.023243e+01\n",
       "dtype: float64"
      ]
     },
     "execution_count": 10,
     "metadata": {},
     "output_type": "execute_result"
    }
   ],
   "source": [
    "media"
   ]
  },
  {
   "cell_type": "code",
   "execution_count": 11,
   "metadata": {},
   "outputs": [],
   "source": [
    "mediana = df[variables_numericas].median()"
   ]
  },
  {
   "cell_type": "code",
   "execution_count": 12,
   "metadata": {},
   "outputs": [
    {
     "data": {
      "text/plain": [
       "density                                 8.300000e+01\n",
       "agricultural_land                       3.960000e+01\n",
       "land_area                               1.484600e+02\n",
       "armed_forces_size                       2.850000e+01\n",
       "birth_rate                              1.795000e+01\n",
       "calling_code                            2.555000e+02\n",
       "co2-emissions                           3.447700e+01\n",
       "cpi                                     1.247400e+02\n",
       "cpi_change                              2.300000e+00\n",
       "fertility_rate                          2.245000e+00\n",
       "forested_area                           3.200000e+01\n",
       "gasoline_price                          9.800000e-01\n",
       "gdp                                     3.438723e+10\n",
       "gross_primary_education_enrollment      1.025500e+02\n",
       "gross_tertiary_education_enrollment     3.120000e+01\n",
       "infant_mortality                        1.400000e+01\n",
       "life_expectancy                         7.320000e+01\n",
       "maternal_mortality_ratio                5.300000e+01\n",
       "minimum_wage                            1.045000e+00\n",
       "out_of_pocket_health_expenditure        3.070000e+01\n",
       "physicians_per_thousand                 1.460000e+00\n",
       "population                              2.150560e+02\n",
       "population_labor_force_participation    6.245000e+01\n",
       "tax_revenue                             1.630000e+01\n",
       "total_tax_rate                          3.720000e+01\n",
       "unemployment_rate                       5.360000e+00\n",
       "urban_population                        1.790390e+02\n",
       "latitude                                1.727385e+01\n",
       "longitude                               2.097265e+01\n",
       "dtype: float64"
      ]
     },
     "execution_count": 12,
     "metadata": {},
     "output_type": "execute_result"
    }
   ],
   "source": [
    "mediana"
   ]
  },
  {
   "cell_type": "code",
   "execution_count": 13,
   "metadata": {},
   "outputs": [],
   "source": [
    "desviacion_estandar = df[variables_numericas].std()"
   ]
  },
  {
   "cell_type": "code",
   "execution_count": 14,
   "metadata": {},
   "outputs": [
    {
     "data": {
      "text/plain": [
       "density                                 1.573068e+02\n",
       "agricultural_land                       2.178305e+01\n",
       "land_area                               2.583850e+02\n",
       "armed_forces_size                       1.671580e+02\n",
       "birth_rate                              9.945774e+00\n",
       "calling_code                            3.232364e+02\n",
       "co2-emissions                           1.817949e+02\n",
       "cpi                                     5.478400e+01\n",
       "cpi_change                              2.445041e+01\n",
       "fertility_rate                          1.282267e+00\n",
       "forested_area                           2.379133e+01\n",
       "gasoline_price                          3.688585e-01\n",
       "gdp                                     2.172173e+12\n",
       "gross_primary_education_enrollment      1.315161e+01\n",
       "gross_tertiary_education_enrollment     2.926102e+01\n",
       "infant_mortality                        1.954806e+01\n",
       "life_expectancy                         7.483661e+00\n",
       "maternal_mortality_ratio                2.335020e+02\n",
       "minimum_wage                            2.970796e+00\n",
       "out_of_pocket_health_expenditure        1.917270e+01\n",
       "physicians_per_thousand                 1.684261e+00\n",
       "population                              2.964675e+02\n",
       "population_labor_force_participation    1.050291e+01\n",
       "tax_revenue                             6.961632e+00\n",
       "total_tax_rate                          2.055766e+01\n",
       "unemployment_rate                       5.079216e+00\n",
       "urban_population                        2.833224e+02\n",
       "latitude                                2.396178e+01\n",
       "longitude                               6.671611e+01\n",
       "dtype: float64"
      ]
     },
     "execution_count": 14,
     "metadata": {},
     "output_type": "execute_result"
    }
   ],
   "source": [
    "desviacion_estandar"
   ]
  },
  {
   "cell_type": "code",
   "execution_count": 15,
   "metadata": {},
   "outputs": [],
   "source": [
    "minimo= df[variables_numericas].min()"
   ]
  },
  {
   "cell_type": "code",
   "execution_count": 16,
   "metadata": {},
   "outputs": [
    {
     "data": {
      "text/plain": [
       "density                                 1.265000e+00\n",
       "agricultural_land                       6.000000e-01\n",
       "land_area                               0.000000e+00\n",
       "armed_forces_size                       0.000000e+00\n",
       "birth_rate                              5.900000e+00\n",
       "calling_code                            1.000000e+00\n",
       "co2-emissions                           1.016000e+00\n",
       "cpi                                     9.903000e+01\n",
       "cpi_change                             -4.300000e+00\n",
       "fertility_rate                          9.800000e-01\n",
       "forested_area                           0.000000e+00\n",
       "gasoline_price                          0.000000e+00\n",
       "gdp                                     4.727146e+07\n",
       "gross_primary_education_enrollment      2.340000e+01\n",
       "gross_tertiary_education_enrollment     8.000000e-01\n",
       "infant_mortality                        1.400000e+00\n",
       "life_expectancy                         5.280000e+01\n",
       "maternal_mortality_ratio                2.000000e+00\n",
       "minimum_wage                            1.000000e-02\n",
       "out_of_pocket_health_expenditure        2.000000e-01\n",
       "physicians_per_thousand                 1.000000e-02\n",
       "population                              1.008400e+01\n",
       "population_labor_force_participation    3.800000e+01\n",
       "tax_revenue                             0.000000e+00\n",
       "total_tax_rate                          8.000000e+00\n",
       "unemployment_rate                       9.000000e-02\n",
       "urban_population                        5.464000e+00\n",
       "latitude                               -4.090056e+01\n",
       "longitude                              -1.751982e+02\n",
       "dtype: float64"
      ]
     },
     "execution_count": 16,
     "metadata": {},
     "output_type": "execute_result"
    }
   ],
   "source": [
    "minimo"
   ]
  },
  {
   "cell_type": "code",
   "execution_count": 17,
   "metadata": {},
   "outputs": [],
   "source": [
    "maximo= df[variables_numericas].max()"
   ]
  },
  {
   "cell_type": "code",
   "execution_count": 22,
   "metadata": {},
   "outputs": [
    {
     "data": {
      "text/plain": [
       "density                                 8.470000e+02\n",
       "agricultural_land                       8.260000e+01\n",
       "land_area                               9.640000e+02\n",
       "armed_forces_size                       9.360000e+02\n",
       "birth_rate                              4.608000e+01\n",
       "calling_code                            1.876000e+03\n",
       "co2-emissions                           7.279730e+02\n",
       "cpi                                     5.509300e+02\n",
       "cpi_change                              2.549000e+02\n",
       "fertility_rate                          6.910000e+00\n",
       "forested_area                           9.830000e+01\n",
       "gasoline_price                          2.000000e+00\n",
       "gdp                                     2.142770e+13\n",
       "gross_primary_education_enrollment      1.425000e+02\n",
       "gross_tertiary_education_enrollment     1.366000e+02\n",
       "infant_mortality                        8.450000e+01\n",
       "life_expectancy                         8.540000e+01\n",
       "maternal_mortality_ratio                1.150000e+03\n",
       "minimum_wage                            1.359000e+01\n",
       "out_of_pocket_health_expenditure        8.160000e+01\n",
       "physicians_per_thousand                 8.420000e+00\n",
       "population                              9.735600e+02\n",
       "population_labor_force_participation    8.680000e+01\n",
       "tax_revenue                             3.720000e+01\n",
       "total_tax_rate                          2.196000e+02\n",
       "unemployment_rate                       2.818000e+01\n",
       "urban_population                        9.848120e+02\n",
       "latitude                                6.496305e+01\n",
       "longitude                               1.780650e+02\n",
       "dtype: float64"
      ]
     },
     "execution_count": 22,
     "metadata": {},
     "output_type": "execute_result"
    }
   ],
   "source": [
    "maximo"
   ]
  },
  {
   "cell_type": "markdown",
   "metadata": {},
   "source": [
    "\n",
    "2 :Identifica el país con la mayor densidad de población y el país con la menor población en el conjunto de datos."
   ]
  },
  {
   "cell_type": "code",
   "execution_count": null,
   "metadata": {},
   "outputs": [],
   "source": [
    "#FALTA RESOLVER \n",
    "\n",
    "densidad_max_poblacion =df['population'] / df['density']"
   ]
  },
  {
   "cell_type": "code",
   "execution_count": 34,
   "metadata": {},
   "outputs": [
    {
     "data": {
      "text/plain": [
       "0           NaN\n",
       "1           NaN\n",
       "2           NaN\n",
       "3      0.470378\n",
       "4           NaN\n",
       "         ...   \n",
       "190         NaN\n",
       "191         NaN\n",
       "192         NaN\n",
       "193         NaN\n",
       "194         NaN\n",
       "Length: 195, dtype: float64"
      ]
     },
     "execution_count": 34,
     "metadata": {},
     "output_type": "execute_result"
    }
   ],
   "source": [
    "densidad_max_poblacion"
   ]
  },
  {
   "cell_type": "markdown",
   "metadata": {},
   "source": [
    "3: Calcula la tasa promedio de natalidad (birth_rate) para todos los países en el conjunto de datos."
   ]
  },
  {
   "cell_type": "code",
   "execution_count": 38,
   "metadata": {},
   "outputs": [
    {
     "name": "stdout",
     "output_type": "stream",
     "text": [
      "El promedio de natalidad por paises es 20.214973544973546\n"
     ]
    }
   ],
   "source": [
    "prom_nat = df[\"birth_rate\"].mean()\n",
    "\n",
    "print(f\"El promedio de natalidad por paises es {prom_nat}\")"
   ]
  },
  {
   "cell_type": "markdown",
   "metadata": {},
   "source": [
    "4 :Realiza un análisis de la mortalidad infantil (infant_mortality) y clasifica los países en tres categorías: baja, moderada y alta mortalidad infantil."
   ]
  },
  {
   "cell_type": "code",
   "execution_count": 39,
   "metadata": {},
   "outputs": [
    {
     "data": {
      "text/html": [
       "<div>\n",
       "<style scoped>\n",
       "    .dataframe tbody tr th:only-of-type {\n",
       "        vertical-align: middle;\n",
       "    }\n",
       "\n",
       "    .dataframe tbody tr th {\n",
       "        vertical-align: top;\n",
       "    }\n",
       "\n",
       "    .dataframe thead th {\n",
       "        text-align: right;\n",
       "    }\n",
       "</style>\n",
       "<table border=\"1\" class=\"dataframe\">\n",
       "  <thead>\n",
       "    <tr style=\"text-align: right;\">\n",
       "      <th></th>\n",
       "      <th>country</th>\n",
       "      <th>Categoría Mortalidad</th>\n",
       "    </tr>\n",
       "  </thead>\n",
       "  <tbody>\n",
       "    <tr>\n",
       "      <th>0</th>\n",
       "      <td>Afghanistan</td>\n",
       "      <td>Moderada</td>\n",
       "    </tr>\n",
       "    <tr>\n",
       "      <th>1</th>\n",
       "      <td>Albania</td>\n",
       "      <td>Baja</td>\n",
       "    </tr>\n",
       "    <tr>\n",
       "      <th>2</th>\n",
       "      <td>Algeria</td>\n",
       "      <td>Baja</td>\n",
       "    </tr>\n",
       "    <tr>\n",
       "      <th>3</th>\n",
       "      <td>Andorra</td>\n",
       "      <td>Baja</td>\n",
       "    </tr>\n",
       "    <tr>\n",
       "      <th>4</th>\n",
       "      <td>Angola</td>\n",
       "      <td>Moderada</td>\n",
       "    </tr>\n",
       "    <tr>\n",
       "      <th>...</th>\n",
       "      <td>...</td>\n",
       "      <td>...</td>\n",
       "    </tr>\n",
       "    <tr>\n",
       "      <th>190</th>\n",
       "      <td>Venezuela</td>\n",
       "      <td>Baja</td>\n",
       "    </tr>\n",
       "    <tr>\n",
       "      <th>191</th>\n",
       "      <td>Vietnam</td>\n",
       "      <td>Baja</td>\n",
       "    </tr>\n",
       "    <tr>\n",
       "      <th>192</th>\n",
       "      <td>Yemen</td>\n",
       "      <td>Moderada</td>\n",
       "    </tr>\n",
       "    <tr>\n",
       "      <th>193</th>\n",
       "      <td>Zambia</td>\n",
       "      <td>Moderada</td>\n",
       "    </tr>\n",
       "    <tr>\n",
       "      <th>194</th>\n",
       "      <td>Zimbabwe</td>\n",
       "      <td>Moderada</td>\n",
       "    </tr>\n",
       "  </tbody>\n",
       "</table>\n",
       "<p>195 rows × 2 columns</p>\n",
       "</div>"
      ],
      "text/plain": [
       "         country Categoría Mortalidad\n",
       "0    Afghanistan             Moderada\n",
       "1        Albania                 Baja\n",
       "2        Algeria                 Baja\n",
       "3        Andorra                 Baja\n",
       "4         Angola             Moderada\n",
       "..           ...                  ...\n",
       "190    Venezuela                 Baja\n",
       "191      Vietnam                 Baja\n",
       "192        Yemen             Moderada\n",
       "193       Zambia             Moderada\n",
       "194     Zimbabwe             Moderada\n",
       "\n",
       "[195 rows x 2 columns]"
      ]
     },
     "execution_count": 39,
     "metadata": {},
     "output_type": "execute_result"
    }
   ],
   "source": [
    "etiquetas = ['Baja', 'Moderada', 'Alta']  \n",
    "df['Categoría Mortalidad'] = pd.cut(df['infant_mortality'], bins=3, labels=etiquetas)\n",
    "df[[\"country\", \"Categoría Mortalidad\"]]"
   ]
  },
  {
   "cell_type": "markdown",
   "metadata": {},
   "source": [
    "\n",
    "5 :Calcula la correlación entre las variables de \"fertility_rate\" y \"life_expectancy\". Interpreta la relación entre estas dos variables. ¿Qué tipo de correlación hay? Explica la razón de esta relación"
   ]
  },
  {
   "cell_type": "code",
   "execution_count": 40,
   "metadata": {},
   "outputs": [
    {
     "data": {
      "text/plain": [
       "np.float64(-0.8491528107360006)"
      ]
     },
     "execution_count": 40,
     "metadata": {},
     "output_type": "execute_result"
    }
   ],
   "source": [
    "correlacion = df[\"fertility_rate\"].corr(df[\"life_expectancy\"])\n",
    "correlacion"
   ]
  }
 ],
 "metadata": {
  "kernelspec": {
   "display_name": "Python 3",
   "language": "python",
   "name": "python3"
  },
  "language_info": {
   "codemirror_mode": {
    "name": "ipython",
    "version": 3
   },
   "file_extension": ".py",
   "mimetype": "text/x-python",
   "name": "python",
   "nbconvert_exporter": "python",
   "pygments_lexer": "ipython3",
   "version": "3.11.9"
  }
 },
 "nbformat": 4,
 "nbformat_minor": 2
}
